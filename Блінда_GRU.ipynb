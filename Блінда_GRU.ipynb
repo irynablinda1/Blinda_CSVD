{
 "cells": [
  {
   "cell_type": "markdown",
   "id": "d1079af0",
   "metadata": {},
   "source": [
    "# Лабораторна робота №2\n",
    "### Блінда Ірина Ігорівна ФІТ 4-4\n",
    "### Завдання 1.2\n",
    "### Тема: Створити RNN для семантичного аналізу тексту з використанням: моделі GRU."
   ]
  },
  {
   "cell_type": "code",
   "execution_count": 2,
   "id": "1c072479-d4d5-4ddd-83f2-43127f234221",
   "metadata": {},
   "outputs": [],
   "source": [
    "import tensorflow as tf\n",
    "from tensorflow.keras.models import Sequential\n",
    "from tensorflow.keras.layers import Embedding, GRU, Dense\n",
    "from tensorflow.keras.preprocessing.sequence import pad_sequences\n",
    "from tensorflow.keras.preprocessing.text import Tokenizer\n",
    "import numpy as np"
   ]
  },
  {
   "cell_type": "code",
   "execution_count": 3,
   "id": "e9b5060c-0704-4182-97a2-65b7ced6ce9b",
   "metadata": {},
   "outputs": [],
   "source": [
    "# Приклад даних \n",
    "reviews = [\n",
    "    \"Чудовий фільм з глибоким сенсом\",\n",
    "    \"Жахливий фільм, втрачено час\",\n",
    "    \"Цікава стрічка, рекомендую переглянути\",\n",
    "    \"Нудний фільм, не вартий уваги\",\n",
    "    \"Емоційний та захоплюючий фільм\",\n",
    "    \"Сюжет слабкий, не вражає\",\n",
    "    \"Фільм вразив своєю глибиною\",\n",
    "    \"Занудний і нецікавий фільм\",\n",
    "    \"Вражаюча гра акторів, рекомендую\",\n",
    "    \"Фільм розчарував, я очікував більшого\",\n",
    "    \"Вражаючі ефекти, захоплююча історія!\",\n",
    "    \"Слабка гра акторів, нудний сюжет\",\n",
    "    \"Неймовірна атмосфера, вражаюча музика\",\n",
    "    \"Фільм здається бездушним і безсмисловим\",\n",
    "    \"Неперевершений сюжет, дивовижні спецефекти\",\n",
    "    \"Плаский сценарій, занадто передбачуваний\",\n",
    "    \"Смішний, зворушливий, незабутній фільм!\", \n",
    "    \"Це було жахливо, зовсім не сподобалося\"\n",
    "]\n",
    "\n",
    "labels = [1, 0, 1, 0, 1, 0, 1, 0, 1, 0, 1, 0, 1, 0, 1, 0, 1, 0]  # 1 - позитивний, 0 - негативний\n",
    "\n",
    "# Токенізація тексту\n",
    "tokenizer = Tokenizer(num_words=5000, filters='!–\"—#$%&amp;()*+,-./:;<=>?@[\\\\]^_`{|}~\\t\\n\\r«»', lower=True, split=' ', char_level=False)\n",
    "tokenizer.fit_on_texts(reviews)\n",
    "sequences = tokenizer.texts_to_sequences(reviews)\n",
    "\n",
    "# Падінг послідовностей для однакової довжини\n",
    "max_review_len = 100\n",
    "data = pad_sequences(sequences, maxlen=max_review_len)"
   ]
  },
  {
   "cell_type": "code",
   "execution_count": 4,
   "id": "7fd83dc1-a8c4-45d5-a4c7-7043b670fe9c",
   "metadata": {},
   "outputs": [],
   "source": [
    "model = Sequential([\n",
    "    Embedding(input_dim=10000, output_dim=128),\n",
    "    GRU(128, return_sequences=True),\n",
    "    GRU(64),\n",
    "    Dense(1, activation='sigmoid')\n",
    "])\n",
    "\n",
    "model.compile(optimizer='adam', loss='binary_crossentropy', metrics=['accuracy'])"
   ]
  },
  {
   "cell_type": "code",
   "execution_count": 5,
   "id": "ae62fed1-04c2-4e76-89b0-d9aad3bcc7a1",
   "metadata": {},
   "outputs": [
    {
     "name": "stdout",
     "output_type": "stream",
     "text": [
      "Epoch 1/15\n",
      "\u001b[1m1/1\u001b[0m \u001b[32m━━━━━━━━━━━━━━━━━━━━\u001b[0m\u001b[37m\u001b[0m \u001b[1m6s\u001b[0m 6s/step - accuracy: 0.5714 - loss: 0.6932 - val_accuracy: 0.5000 - val_loss: 0.6917\n",
      "Epoch 2/15\n",
      "\u001b[1m1/1\u001b[0m \u001b[32m━━━━━━━━━━━━━━━━━━━━\u001b[0m\u001b[37m\u001b[0m \u001b[1m0s\u001b[0m 149ms/step - accuracy: 0.5000 - loss: 0.6869 - val_accuracy: 0.5000 - val_loss: 0.6915\n",
      "Epoch 3/15\n",
      "\u001b[1m1/1\u001b[0m \u001b[32m━━━━━━━━━━━━━━━━━━━━\u001b[0m\u001b[37m\u001b[0m \u001b[1m0s\u001b[0m 149ms/step - accuracy: 1.0000 - loss: 0.6799 - val_accuracy: 0.2500 - val_loss: 0.6912\n",
      "Epoch 4/15\n",
      "\u001b[1m1/1\u001b[0m \u001b[32m━━━━━━━━━━━━━━━━━━━━\u001b[0m\u001b[37m\u001b[0m \u001b[1m0s\u001b[0m 153ms/step - accuracy: 1.0000 - loss: 0.6717 - val_accuracy: 0.5000 - val_loss: 0.6907\n",
      "Epoch 5/15\n",
      "\u001b[1m1/1\u001b[0m \u001b[32m━━━━━━━━━━━━━━━━━━━━\u001b[0m\u001b[37m\u001b[0m \u001b[1m0s\u001b[0m 313ms/step - accuracy: 1.0000 - loss: 0.6615 - val_accuracy: 0.2500 - val_loss: 0.6899\n",
      "Epoch 6/15\n",
      "\u001b[1m1/1\u001b[0m \u001b[32m━━━━━━━━━━━━━━━━━━━━\u001b[0m\u001b[37m\u001b[0m \u001b[1m0s\u001b[0m 152ms/step - accuracy: 1.0000 - loss: 0.6486 - val_accuracy: 0.5000 - val_loss: 0.6887\n",
      "Epoch 7/15\n",
      "\u001b[1m1/1\u001b[0m \u001b[32m━━━━━━━━━━━━━━━━━━━━\u001b[0m\u001b[37m\u001b[0m \u001b[1m0s\u001b[0m 150ms/step - accuracy: 1.0000 - loss: 0.6324 - val_accuracy: 0.5000 - val_loss: 0.6874\n",
      "Epoch 8/15\n",
      "\u001b[1m1/1\u001b[0m \u001b[32m━━━━━━━━━━━━━━━━━━━━\u001b[0m\u001b[37m\u001b[0m \u001b[1m0s\u001b[0m 150ms/step - accuracy: 1.0000 - loss: 0.6122 - val_accuracy: 0.5000 - val_loss: 0.6857\n",
      "Epoch 9/15\n",
      "\u001b[1m1/1\u001b[0m \u001b[32m━━━━━━━━━━━━━━━━━━━━\u001b[0m\u001b[37m\u001b[0m \u001b[1m0s\u001b[0m 148ms/step - accuracy: 1.0000 - loss: 0.5870 - val_accuracy: 0.5000 - val_loss: 0.6836\n",
      "Epoch 10/15\n",
      "\u001b[1m1/1\u001b[0m \u001b[32m━━━━━━━━━━━━━━━━━━━━\u001b[0m\u001b[37m\u001b[0m \u001b[1m0s\u001b[0m 151ms/step - accuracy: 1.0000 - loss: 0.5562 - val_accuracy: 0.5000 - val_loss: 0.6812\n",
      "Epoch 11/15\n",
      "\u001b[1m1/1\u001b[0m \u001b[32m━━━━━━━━━━━━━━━━━━━━\u001b[0m\u001b[37m\u001b[0m \u001b[1m0s\u001b[0m 165ms/step - accuracy: 1.0000 - loss: 0.5190 - val_accuracy: 0.7500 - val_loss: 0.6783\n",
      "Epoch 12/15\n",
      "\u001b[1m1/1\u001b[0m \u001b[32m━━━━━━━━━━━━━━━━━━━━\u001b[0m\u001b[37m\u001b[0m \u001b[1m0s\u001b[0m 156ms/step - accuracy: 1.0000 - loss: 0.4753 - val_accuracy: 0.7500 - val_loss: 0.6752\n",
      "Epoch 13/15\n",
      "\u001b[1m1/1\u001b[0m \u001b[32m━━━━━━━━━━━━━━━━━━━━\u001b[0m\u001b[37m\u001b[0m \u001b[1m0s\u001b[0m 151ms/step - accuracy: 1.0000 - loss: 0.4252 - val_accuracy: 0.7500 - val_loss: 0.6727\n",
      "Epoch 14/15\n",
      "\u001b[1m1/1\u001b[0m \u001b[32m━━━━━━━━━━━━━━━━━━━━\u001b[0m\u001b[37m\u001b[0m \u001b[1m0s\u001b[0m 244ms/step - accuracy: 1.0000 - loss: 0.3701 - val_accuracy: 0.7500 - val_loss: 0.6720\n",
      "Epoch 15/15\n",
      "\u001b[1m1/1\u001b[0m \u001b[32m━━━━━━━━━━━━━━━━━━━━\u001b[0m\u001b[37m\u001b[0m \u001b[1m0s\u001b[0m 156ms/step - accuracy: 1.0000 - loss: 0.3119 - val_accuracy: 0.7500 - val_loss: 0.6742\n"
     ]
    },
    {
     "data": {
      "text/plain": [
       "<keras.src.callbacks.history.History at 0x1e0e9bedb90>"
      ]
     },
     "execution_count": 5,
     "metadata": {},
     "output_type": "execute_result"
    }
   ],
   "source": [
    "labels = np.array(labels)\n",
    "model.fit(data, labels, batch_size=64, epochs=15, validation_split=0.2)"
   ]
  },
  {
   "cell_type": "code",
   "execution_count": 6,
   "id": "f4ec0ae5-c50f-451d-85e2-78562663a6fe",
   "metadata": {},
   "outputs": [
    {
     "name": "stdout",
     "output_type": "stream",
     "text": [
      "\u001b[1m1/1\u001b[0m \u001b[32m━━━━━━━━━━━━━━━━━━━━\u001b[0m\u001b[37m\u001b[0m \u001b[1m0s\u001b[0m 433ms/step\n",
      "[[0.7486237 ]\n",
      " [0.14518857]\n",
      " [0.8079306 ]\n",
      " [0.4636873 ]\n",
      " [0.7566545 ]]\n",
      "Рецензія: Захоплюючий фільм, чудова музика, рекомендую.\n",
      "Прогноз: Позитивний\n",
      "\n",
      "Рецензія: Це нудний фільм, зовсім не вражає.\n",
      "Прогноз: Негативний\n",
      "\n",
      "Рецензія: Цікава історія, неймовірна гра акторів\n",
      "Прогноз: Позитивний\n",
      "\n",
      "Рецензія: Фільм має занадто плаский сюжет\n",
      "Прогноз: Негативний\n",
      "\n",
      "Рецензія: Це неперевершена стрічка\n",
      "Прогноз: Позитивний\n",
      "\n"
     ]
    }
   ],
   "source": [
    "test_reviews = [\n",
    "    \"Захоплюючий фільм, чудова музика, рекомендую.\",\n",
    "      \"Це нудний фільм, зовсім не вражає.\",\n",
    "    \"Цікава історія, неймовірна гра акторів\",\n",
    "    \"Фільм має занадто плаский сюжет\",\n",
    "    \"Це неперевершена стрічка\"\n",
    "]\n",
    "\n",
    "test_sequences = tokenizer.texts_to_sequences(test_reviews)\n",
    "test_padded_sequences = pad_sequences(test_sequences, maxlen=max_review_len)\n",
    "\n",
    "predictions = model.predict(test_padded_sequences)\n",
    "print(predictions)\n",
    "\n",
    "for i, review in enumerate(test_reviews):\n",
    "    print(f\"Рецензія: {review}\\nПрогноз: {'Позитивний' if predictions[i] > 0.5 else 'Негативний'}\\n\")"
   ]
  },
  {
   "cell_type": "markdown",
   "id": "82337a26-ba8c-407f-b85a-6e5ab8e04303",
   "metadata": {},
   "source": [
    "# Висновок\n",
    "\n",
    "Під час лабораторної роботи було проведено створення рекурентних нейронних мереж (RNN) для семантичного аналізу тексту за допомогою моделей LSTM і GRU. Для кожної моделі була розроблена власна архітектура, в якій враховувалися такі параметри, як кількість рекурентних шарів, функції активації та вибір оптимізатора.\n",
    "\n",
    "Для обох моделей були підготовлені по дві рецензії, як позитивні, так і негативні. Оці рецензії використовувалися для навчання та оцінки ефективності моделей.\n",
    "\n",
    "Отже, у результаті лабораторної роботи були створені та оцінені рекурентні нейронні мережі для семантичного аналізу тексту за допомогою моделей LSTM і GRU."
   ]
  }
 ],
 "metadata": {
  "kernelspec": {
   "display_name": "Python 3 (ipykernel)",
   "language": "python",
   "name": "python3"
  },
  "language_info": {
   "codemirror_mode": {
    "name": "ipython",
    "version": 3
   },
   "file_extension": ".py",
   "mimetype": "text/x-python",
   "name": "python",
   "nbconvert_exporter": "python",
   "pygments_lexer": "ipython3",
   "version": "3.11.5"
  }
 },
 "nbformat": 4,
 "nbformat_minor": 5
}
