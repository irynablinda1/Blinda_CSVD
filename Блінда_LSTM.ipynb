{
 "cells": [
  {
   "cell_type": "markdown",
   "id": "230407d6",
   "metadata": {},
   "source": [
    "# Лабораторна робота №2\n",
    "### Блінда Ірина Ігорівна ФІТ 4-4\n",
    "### Завдання 1.1\n",
    "### Тема: Створити RNN для семантичного аналізу тексту з використанням: моделі LSTM."
   ]
  },
  {
   "cell_type": "code",
   "execution_count": 1,
   "id": "c6520546-43c1-46e5-9719-bf42fb6ae07d",
   "metadata": {},
   "outputs": [],
   "source": [
    "from keras.models import Sequential\n",
    "from keras.layers import Embedding, LSTM, Dense, Dropout\n",
    "from keras.preprocessing.sequence import pad_sequences\n",
    "from tensorflow.keras.preprocessing.text import Tokenizer\n",
    "from keras.optimizers import Adam\n",
    "import numpy as np"
   ]
  },
  {
   "cell_type": "code",
   "execution_count": 2,
   "id": "e0446c3b-3883-49fa-b1b4-8d454bd34df8",
   "metadata": {},
   "outputs": [],
   "source": [
    "# Приклад даних \n",
    "reviews = [\n",
    "    \"Чудовий фільм з глибоким сенсом\",\n",
    "    \"Жахливий фільм, втрачено час\",\n",
    "    \"Цікава стрічка, рекомендую переглянути\",\n",
    "    \"Нудний фільм, не вартий уваги\",\n",
    "    \"Емоційний та захоплюючий фільм\",\n",
    "    \"Сюжет слабкий, не вражає\",\n",
    "    \"Фільм вразив своєю глибиною\",\n",
    "    \"Занудний і нецікавий фільм\",\n",
    "    \"Вражаюча гра акторів, рекомендую\",\n",
    "    \"Фільм розчарував, я очікував більшого\",\n",
    "    \"Вражаючі ефекти, захоплююча історія!\",\n",
    "    \"Слабка гра акторів, нудний сюжет\",\n",
    "    \"Неймовірна атмосфера, вражаюча музика\",\n",
    "    \"Фільм здається бездушним і безсмисловим\",\n",
    "    \"Неперевершений сюжет, дивовижні спецефекти\",\n",
    "    \"Плаский сценарій, занадто передбачуваний\",\n",
    "    \"Смішний, зворушливий, незабутній фільм!\", \n",
    "    \"Це було жахливо, зовсім не сподобалося\"\n",
    "]\n",
    "\n",
    "labels = [1, 0, 1, 0, 1, 0, 1, 0, 1, 0, 1, 0, 1, 0, 1, 0, 1, 0]  # 1 - позитивний, 0 - негативний\n",
    "\n",
    "# Токенізація тексту\n",
    "tokenizer = Tokenizer(num_words=5000, filters='!–\"—#$%&amp;()*+,-./:;<=>?@[\\\\]^_`{|}~\\t\\n\\r«»', lower=True, split=' ', char_level=False)\n",
    "tokenizer.fit_on_texts(reviews)\n",
    "sequences = tokenizer.texts_to_sequences(reviews)\n",
    "\n",
    "# Падінг послідовностей для однакової довжини\n",
    "max_review_len = 100\n",
    "padded_sequences = pad_sequences(sequences, maxlen=max_review_len)"
   ]
  },
  {
   "cell_type": "code",
   "execution_count": 3,
   "id": "631fbff9-f085-4a76-8ccc-bfeaba8ef6af",
   "metadata": {},
   "outputs": [],
   "source": [
    "model = Sequential()\n",
    "model.add(Embedding(input_dim=5000, output_dim=128))\n",
    "model.add(LSTM(128, dropout=0.2, recurrent_dropout=0.2))\n",
    "model.add(Dense(1, activation='sigmoid'))\n",
    "\n",
    "# Вибір оптимізатора\n",
    "optimizer = Adam(learning_rate=0.001)\n",
    "\n",
    "model.compile(optimizer=optimizer, loss='binary_crossentropy', metrics=['accuracy'])"
   ]
  },
  {
   "cell_type": "code",
   "execution_count": 4,
   "id": "7077da85-68ce-4ba8-a10a-90581078d90a",
   "metadata": {},
   "outputs": [
    {
     "name": "stdout",
     "output_type": "stream",
     "text": [
      "Epoch 1/20\n",
      "\u001b[1m1/1\u001b[0m \u001b[32m━━━━━━━━━━━━━━━━━━━━\u001b[0m\u001b[37m\u001b[0m \u001b[1m4s\u001b[0m 4s/step - accuracy: 0.5000 - loss: 0.6932 - val_accuracy: 0.5000 - val_loss: 0.6921\n",
      "Epoch 2/20\n",
      "\u001b[1m1/1\u001b[0m \u001b[32m━━━━━━━━━━━━━━━━━━━━\u001b[0m\u001b[37m\u001b[0m \u001b[1m0s\u001b[0m 111ms/step - accuracy: 0.7857 - loss: 0.6874 - val_accuracy: 0.5000 - val_loss: 0.6917\n",
      "Epoch 3/20\n",
      "\u001b[1m1/1\u001b[0m \u001b[32m━━━━━━━━━━━━━━━━━━━━\u001b[0m\u001b[37m\u001b[0m \u001b[1m0s\u001b[0m 114ms/step - accuracy: 0.8571 - loss: 0.6818 - val_accuracy: 0.5000 - val_loss: 0.6916\n",
      "Epoch 4/20\n",
      "\u001b[1m1/1\u001b[0m \u001b[32m━━━━━━━━━━━━━━━━━━━━\u001b[0m\u001b[37m\u001b[0m \u001b[1m0s\u001b[0m 118ms/step - accuracy: 0.6429 - loss: 0.6826 - val_accuracy: 0.5000 - val_loss: 0.6913\n",
      "Epoch 5/20\n",
      "\u001b[1m1/1\u001b[0m \u001b[32m━━━━━━━━━━━━━━━━━━━━\u001b[0m\u001b[37m\u001b[0m \u001b[1m0s\u001b[0m 118ms/step - accuracy: 0.7143 - loss: 0.6763 - val_accuracy: 0.5000 - val_loss: 0.6909\n",
      "Epoch 6/20\n",
      "\u001b[1m1/1\u001b[0m \u001b[32m━━━━━━━━━━━━━━━━━━━━\u001b[0m\u001b[37m\u001b[0m \u001b[1m0s\u001b[0m 111ms/step - accuracy: 0.7143 - loss: 0.6753 - val_accuracy: 0.5000 - val_loss: 0.6905\n",
      "Epoch 7/20\n",
      "\u001b[1m1/1\u001b[0m \u001b[32m━━━━━━━━━━━━━━━━━━━━\u001b[0m\u001b[37m\u001b[0m \u001b[1m0s\u001b[0m 116ms/step - accuracy: 0.9286 - loss: 0.6648 - val_accuracy: 0.5000 - val_loss: 0.6900\n",
      "Epoch 8/20\n",
      "\u001b[1m1/1\u001b[0m \u001b[32m━━━━━━━━━━━━━━━━━━━━\u001b[0m\u001b[37m\u001b[0m \u001b[1m0s\u001b[0m 120ms/step - accuracy: 0.9286 - loss: 0.6631 - val_accuracy: 0.7500 - val_loss: 0.6897\n",
      "Epoch 9/20\n",
      "\u001b[1m1/1\u001b[0m \u001b[32m━━━━━━━━━━━━━━━━━━━━\u001b[0m\u001b[37m\u001b[0m \u001b[1m0s\u001b[0m 144ms/step - accuracy: 1.0000 - loss: 0.6488 - val_accuracy: 0.7500 - val_loss: 0.6892\n",
      "Epoch 10/20\n",
      "\u001b[1m1/1\u001b[0m \u001b[32m━━━━━━━━━━━━━━━━━━━━\u001b[0m\u001b[37m\u001b[0m \u001b[1m0s\u001b[0m 118ms/step - accuracy: 1.0000 - loss: 0.6484 - val_accuracy: 0.7500 - val_loss: 0.6889\n",
      "Epoch 11/20\n",
      "\u001b[1m1/1\u001b[0m \u001b[32m━━━━━━━━━━━━━━━━━━━━\u001b[0m\u001b[37m\u001b[0m \u001b[1m0s\u001b[0m 121ms/step - accuracy: 1.0000 - loss: 0.6333 - val_accuracy: 0.7500 - val_loss: 0.6885\n",
      "Epoch 12/20\n",
      "\u001b[1m1/1\u001b[0m \u001b[32m━━━━━━━━━━━━━━━━━━━━\u001b[0m\u001b[37m\u001b[0m \u001b[1m0s\u001b[0m 118ms/step - accuracy: 1.0000 - loss: 0.6241 - val_accuracy: 0.5000 - val_loss: 0.6882\n",
      "Epoch 13/20\n",
      "\u001b[1m1/1\u001b[0m \u001b[32m━━━━━━━━━━━━━━━━━━━━\u001b[0m\u001b[37m\u001b[0m \u001b[1m0s\u001b[0m 120ms/step - accuracy: 1.0000 - loss: 0.6111 - val_accuracy: 0.7500 - val_loss: 0.6877\n",
      "Epoch 14/20\n",
      "\u001b[1m1/1\u001b[0m \u001b[32m━━━━━━━━━━━━━━━━━━━━\u001b[0m\u001b[37m\u001b[0m \u001b[1m0s\u001b[0m 119ms/step - accuracy: 1.0000 - loss: 0.5995 - val_accuracy: 0.7500 - val_loss: 0.6872\n",
      "Epoch 15/20\n",
      "\u001b[1m1/1\u001b[0m \u001b[32m━━━━━━━━━━━━━━━━━━━━\u001b[0m\u001b[37m\u001b[0m \u001b[1m0s\u001b[0m 113ms/step - accuracy: 1.0000 - loss: 0.5834 - val_accuracy: 0.7500 - val_loss: 0.6868\n",
      "Epoch 16/20\n",
      "\u001b[1m1/1\u001b[0m \u001b[32m━━━━━━━━━━━━━━━━━━━━\u001b[0m\u001b[37m\u001b[0m \u001b[1m0s\u001b[0m 125ms/step - accuracy: 1.0000 - loss: 0.5661 - val_accuracy: 0.7500 - val_loss: 0.6864\n",
      "Epoch 17/20\n",
      "\u001b[1m1/1\u001b[0m \u001b[32m━━━━━━━━━━━━━━━━━━━━\u001b[0m\u001b[37m\u001b[0m \u001b[1m0s\u001b[0m 130ms/step - accuracy: 1.0000 - loss: 0.5584 - val_accuracy: 0.7500 - val_loss: 0.6859\n",
      "Epoch 18/20\n",
      "\u001b[1m1/1\u001b[0m \u001b[32m━━━━━━━━━━━━━━━━━━━━\u001b[0m\u001b[37m\u001b[0m \u001b[1m0s\u001b[0m 129ms/step - accuracy: 1.0000 - loss: 0.5393 - val_accuracy: 0.7500 - val_loss: 0.6855\n",
      "Epoch 19/20\n",
      "\u001b[1m1/1\u001b[0m \u001b[32m━━━━━━━━━━━━━━━━━━━━\u001b[0m\u001b[37m\u001b[0m \u001b[1m0s\u001b[0m 128ms/step - accuracy: 1.0000 - loss: 0.5156 - val_accuracy: 0.7500 - val_loss: 0.6852\n",
      "Epoch 20/20\n",
      "\u001b[1m1/1\u001b[0m \u001b[32m━━━━━━━━━━━━━━━━━━━━\u001b[0m\u001b[37m\u001b[0m \u001b[1m0s\u001b[0m 171ms/step - accuracy: 1.0000 - loss: 0.4787 - val_accuracy: 0.7500 - val_loss: 0.6851\n"
     ]
    },
    {
     "data": {
      "text/plain": [
       "<keras.src.callbacks.history.History at 0x1eecc31eed0>"
      ]
     },
     "execution_count": 4,
     "metadata": {},
     "output_type": "execute_result"
    }
   ],
   "source": [
    "labels = np.array(labels)\n",
    "model.fit(padded_sequences, labels, batch_size=32, epochs=20, validation_split=0.2)"
   ]
  },
  {
   "cell_type": "code",
   "execution_count": 5,
   "id": "c6f4bf74-e9a1-4b4a-88aa-b8bf98f05fde",
   "metadata": {},
   "outputs": [
    {
     "name": "stdout",
     "output_type": "stream",
     "text": [
      "\u001b[1m1/1\u001b[0m \u001b[32m━━━━━━━━━━━━━━━━━━━━\u001b[0m\u001b[37m\u001b[0m \u001b[1m0s\u001b[0m 275ms/step\n",
      "[[0.66994756]\n",
      " [0.38339627]\n",
      " [0.6157992 ]\n",
      " [0.4674129 ]\n",
      " [0.63021505]]\n",
      "Рецензія: Захоплюючий фільм, чудова музика, рекомендую.\n",
      "Прогноз: Позитивний\n",
      "\n",
      "Рецензія: Це нудний фільм, зовсім не вражає.\n",
      "Прогноз: Негативний\n",
      "\n",
      "Рецензія: Цікава історія, неймовірна гра акторів\n",
      "Прогноз: Позитивний\n",
      "\n",
      "Рецензія: Фільм має занадто плаский сюжет\n",
      "Прогноз: Негативний\n",
      "\n",
      "Рецензія: Це неперевершена стрічка\n",
      "Прогноз: Позитивний\n",
      "\n"
     ]
    }
   ],
   "source": [
    "test_reviews = [\n",
    "    \"Захоплюючий фільм, чудова музика, рекомендую.\",\n",
    "      \"Це нудний фільм, зовсім не вражає.\",\n",
    "    \"Цікава історія, неймовірна гра акторів\",\n",
    "    \"Фільм має занадто плаский сюжет\",\n",
    "    \"Це неперевершена стрічка\"\n",
    "]\n",
    "\n",
    "test_sequences = tokenizer.texts_to_sequences(test_reviews)\n",
    "test_padded_sequences = pad_sequences(test_sequences, maxlen=max_review_len)\n",
    "\n",
    "predictions = model.predict(test_padded_sequences)\n",
    "print(predictions)\n",
    "\n",
    "for i, review in enumerate(test_reviews):\n",
    "    print(f\"Рецензія: {review}\\nПрогноз: {'Позитивний' if predictions[i] > 0.5 else 'Негативний'}\\n\")"
   ]
  }
 ],
 "metadata": {
  "kernelspec": {
   "display_name": "Python 3 (ipykernel)",
   "language": "python",
   "name": "python3"
  },
  "language_info": {
   "codemirror_mode": {
    "name": "ipython",
    "version": 3
   },
   "file_extension": ".py",
   "mimetype": "text/x-python",
   "name": "python",
   "nbconvert_exporter": "python",
   "pygments_lexer": "ipython3",
   "version": "3.11.5"
  }
 },
 "nbformat": 4,
 "nbformat_minor": 5
}
